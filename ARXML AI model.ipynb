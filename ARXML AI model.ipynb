{
 "cells": [
  {
   "cell_type": "code",
   "execution_count": 2,
   "id": "9ebaf854",
   "metadata": {},
   "outputs": [
    {
     "name": "stdout",
     "output_type": "stream",
     "text": [
      "Requirement already satisfied: transformers in c:\\users\\mariam fawzy\\anaconda3\\lib\\site-packages (4.31.0)\n",
      "Requirement already satisfied: filelock in c:\\users\\mariam fawzy\\anaconda3\\lib\\site-packages (from transformers) (3.9.0)\n",
      "Requirement already satisfied: huggingface-hub<1.0,>=0.14.1 in c:\\users\\mariam fawzy\\anaconda3\\lib\\site-packages (from transformers) (0.16.4)\n",
      "Requirement already satisfied: numpy>=1.17 in c:\\users\\mariam fawzy\\anaconda3\\lib\\site-packages (from transformers) (1.24.3)\n",
      "Requirement already satisfied: packaging>=20.0 in c:\\users\\mariam fawzy\\anaconda3\\lib\\site-packages (from transformers) (23.0)\n",
      "Requirement already satisfied: pyyaml>=5.1 in c:\\users\\mariam fawzy\\anaconda3\\lib\\site-packages (from transformers) (6.0)\n",
      "Requirement already satisfied: regex!=2019.12.17 in c:\\users\\mariam fawzy\\anaconda3\\lib\\site-packages (from transformers) (2022.7.9)\n",
      "Requirement already satisfied: requests in c:\\users\\mariam fawzy\\anaconda3\\lib\\site-packages (from transformers) (2.31.0)\n",
      "Requirement already satisfied: tokenizers!=0.11.3,<0.14,>=0.11.1 in c:\\users\\mariam fawzy\\anaconda3\\lib\\site-packages (from transformers) (0.13.3)\n",
      "Requirement already satisfied: safetensors>=0.3.1 in c:\\users\\mariam fawzy\\anaconda3\\lib\\site-packages (from transformers) (0.3.2)\n",
      "Requirement already satisfied: tqdm>=4.27 in c:\\users\\mariam fawzy\\anaconda3\\lib\\site-packages (from transformers) (4.65.0)\n",
      "Requirement already satisfied: fsspec in c:\\users\\mariam fawzy\\anaconda3\\lib\\site-packages (from huggingface-hub<1.0,>=0.14.1->transformers) (2023.3.0)\n",
      "Requirement already satisfied: typing-extensions>=3.7.4.3 in c:\\users\\mariam fawzy\\anaconda3\\lib\\site-packages (from huggingface-hub<1.0,>=0.14.1->transformers) (4.8.0)\n",
      "Requirement already satisfied: colorama in c:\\users\\mariam fawzy\\anaconda3\\lib\\site-packages (from tqdm>=4.27->transformers) (0.4.6)\n",
      "Requirement already satisfied: charset-normalizer<4,>=2 in c:\\users\\mariam fawzy\\anaconda3\\lib\\site-packages (from requests->transformers) (2.0.4)\n",
      "Requirement already satisfied: idna<4,>=2.5 in c:\\users\\mariam fawzy\\anaconda3\\lib\\site-packages (from requests->transformers) (3.4)\n",
      "Requirement already satisfied: urllib3<3,>=1.21.1 in c:\\users\\mariam fawzy\\anaconda3\\lib\\site-packages (from requests->transformers) (1.26.16)\n",
      "Requirement already satisfied: certifi>=2017.4.17 in c:\\users\\mariam fawzy\\anaconda3\\lib\\site-packages (from requests->transformers) (2023.7.22)\n"
     ]
    }
   ],
   "source": [
    "!pip install transformers"
   ]
  },
  {
   "cell_type": "code",
   "execution_count": 3,
   "id": "404ee6e3",
   "metadata": {},
   "outputs": [],
   "source": [
    "from transformers import pipeline "
   ]
  },
  {
   "cell_type": "code",
   "execution_count": 4,
   "id": "01505d18",
   "metadata": {},
   "outputs": [
    {
     "data": {
      "application/vnd.jupyter.widget-view+json": {
       "model_id": "3ab7cf219b99477fb1093162a1f1789b",
       "version_major": 2,
       "version_minor": 0
      },
      "text/plain": [
       "Downloading model.safetensors:   0%|          | 0.00/10.7G [00:00<?, ?B/s]"
      ]
     },
     "metadata": {},
     "output_type": "display_data"
    },
    {
     "name": "stderr",
     "output_type": "stream",
     "text": [
      "C:\\Users\\Mariam Fawzy\\anaconda3\\Lib\\site-packages\\huggingface_hub\\file_download.py:133: UserWarning: `huggingface_hub` cache-system uses symlinks by default to efficiently store duplicated files but your machine does not support them in C:\\Users\\Mariam Fawzy\\.cache\\huggingface\\hub. Caching files will still work but in a degraded version that might require more space on your disk. This warning can be disabled by setting the `HF_HUB_DISABLE_SYMLINKS_WARNING` environment variable. For more details, see https://huggingface.co/docs/huggingface_hub/how-to-cache#limitations.\n",
      "To support symlinks on Windows, you either need to activate Developer Mode or to run Python as an administrator. In order to see activate developer mode, see this article: https://docs.microsoft.com/en-us/windows/apps/get-started/enable-your-device-for-development\n",
      "  warnings.warn(message)\n"
     ]
    },
    {
     "data": {
      "application/vnd.jupyter.widget-view+json": {
       "model_id": "7e8c1eed45074c0fb36f6024bb238ae7",
       "version_major": 2,
       "version_minor": 0
      },
      "text/plain": [
       "Downloading tokenizer_config.json:   0%|          | 0.00/200 [00:00<?, ?B/s]"
      ]
     },
     "metadata": {},
     "output_type": "display_data"
    },
    {
     "data": {
      "application/vnd.jupyter.widget-view+json": {
       "model_id": "af0f275667814098b7751dcae44659e1",
       "version_major": 2,
       "version_minor": 0
      },
      "text/plain": [
       "Downloading vocab.json:   0%|          | 0.00/798k [00:00<?, ?B/s]"
      ]
     },
     "metadata": {},
     "output_type": "display_data"
    },
    {
     "data": {
      "application/vnd.jupyter.widget-view+json": {
       "model_id": "7e891e06b81e44fabfcb8542119247d4",
       "version_major": 2,
       "version_minor": 0
      },
      "text/plain": [
       "Downloading merges.txt:   0%|          | 0.00/456k [00:00<?, ?B/s]"
      ]
     },
     "metadata": {},
     "output_type": "display_data"
    },
    {
     "data": {
      "application/vnd.jupyter.widget-view+json": {
       "model_id": "137a1ea3f27e4c79a6d73f7f80a43d64",
       "version_major": 2,
       "version_minor": 0
      },
      "text/plain": [
       "Downloading (…)cial_tokens_map.json:   0%|          | 0.00/90.0 [00:00<?, ?B/s]"
      ]
     },
     "metadata": {},
     "output_type": "display_data"
    },
    {
     "name": "stderr",
     "output_type": "stream",
     "text": [
      "Xformers is not installed correctly. If you want to use memory_efficient_attention to accelerate training use the following command to install Xformers\n",
      "pip install xformers.\n"
     ]
    }
   ],
   "source": [
    "generator = pipeline('text-generation', model='EleutherAI/gpt-neo-2.7B')"
   ]
  },
  {
   "cell_type": "code",
   "execution_count": 13,
   "id": "6281a973",
   "metadata": {},
   "outputs": [],
   "source": [
    "prompt = \"What is AUTOSAR?\" "
   ]
  },
  {
   "cell_type": "code",
   "execution_count": 15,
   "id": "3ea68006",
   "metadata": {},
   "outputs": [
    {
     "name": "stderr",
     "output_type": "stream",
     "text": [
      "Setting `pad_token_id` to `eos_token_id`:50256 for open-end generation.\n"
     ]
    }
   ],
   "source": [
    "res = generator(prompt, max_length=1000, do_sample=True, temperature=0.9) # Fourth line"
   ]
  },
  {
   "cell_type": "code",
   "execution_count": 16,
   "id": "023d94bc",
   "metadata": {},
   "outputs": [
    {
     "name": "stdout",
     "output_type": "stream",
     "text": [
      "What is AUTOSAR?\n",
      "\n",
      "AUTOSAR is a leading provider of satellite and broadband systems, and a provider of satellite services in the Americas. The company's satellites and broadband connectivity network connect millions of homes and businesses to the Internet in North and South America.\n",
      "\n",
      "AUTOSAR currently offers satellite services in the Americas, Central America, South America, the Caribbean, and the Bahamas. The company's primary business is satellite broadband services and services for Internet and telecommunication networks. Its satellites also provide essential public safety services for the U.S. and Latin America.\n",
      "\n",
      "AUTOSAR's corporate headquarters is located on San Francisco's International Airport Way (San Francisco International Airport). AUTOSAR has more than 1,000 employees and offices in the U.S., Europe, China and South Korea. The company also conducts business in other countries of the Americas, Central America, and the Caribbean.\n",
      "\n",
      "AUTOSAR's business model as of March 30, 2007, is the following:\n",
      "\n",
      "1. Business and Investment Model\n",
      "\n",
      "2. Development of New Services\n",
      "\n",
      "3. Satellite Services for Broadband Services\n",
      "\n",
      "4. Services for Internet and Telecommunication Networks\n",
      "\n",
      "4. Services for Public Safety\n",
      "\n",
      "5. Other Business Activities\n",
      "\n",
      "6. Other Off-Balance-Sheet Investments\n",
      "\n",
      "7. Financing Transactions\n",
      "\n",
      "8. Stockholder Equity\n",
      "\n",
      "9. Other\n",
      "\n",
      "9.1. Development of New Services\n",
      "\n",
      "AUTOSAR's new satellite services for broadband and telecommunication networks are based on its expertise and the company's experience in the satellite industry. Its network of satellites can provide capacity for broadband satellite services for the Americas and satellite services for other international markets, including Europe, Japan, and China.\n",
      "\n",
      "AUTOSAR is currently developing services for the Internet and telecommunications, including fixed and mobile satellite services.\n",
      "\n",
      "AUTOSAR's investment in the satellite industry is currently in the following areas:\n",
      "\n",
      "-- The construction and operation of six commercial satellites, with funding of $6.7 million. These satellites can be used to provide satellite broadband and fixed satellite services.\n",
      "\n",
      "-- The development of two satellites.\n",
      "\n",
      "-- Other developments.\n",
      "\n",
      "-- Other projects.\n",
      "\n",
      "1. The construction and operation of six commercial satellites.\n",
      "\n",
      "1.1. Construction of the six commercial satellites.\n",
      "\n",
      "1.1.1. Construction of the six commercial satellites in the U.S.\n",
      "\n",
      "2. The development of two satellites.\n",
      "\n",
      "AUTOSAR's satellites are located in the following areas:\n",
      "\n",
      "-- The U.S.: in orbit around the following cities:\n",
      "\n",
      "The U.S. markets the orbital coverage of the satellites. According to the company, the U.S. markets the orbital coverage of the satellites and the associated satellite services:\n",
      "\n",
      "-- Boston, Portland, San Diego, Austin, and Miami.\n",
      "\n",
      "-- Atlanta, Chicago, Boston, Houston, New York, and Washington, DC.\n",
      "\n",
      "-- Los Angeles, San Francisco, and Seattle.\n",
      "\n",
      "-- Portland, Seattle, and Portland, Oregon.\n",
      "\n",
      "-- San Leandro, California.\n",
      "\n",
      "-- Santa Monica.\n",
      "\n",
      "-- The satellite is fully operational.\n",
      "\n",
      "-- The satellite is currently in orbit.\n",
      "\n",
      "-- The satellites operate on the following frequencies:\n",
      "\n",
      "-- 22,200 kilohertz (KHz easy)\n",
      "\n",
      "-- 22,100 KHz\n",
      "\n",
      "-- 22,200 KHz (easy)\n",
      "\n",
      "-- 22,250 KHz\n",
      "\n",
      "-- 22,300 KHz\n",
      "\n",
      "-- 22,400 KHz\n",
      "\n",
      "-- 22,500 KHz\n",
      "\n",
      "-- 22,600 KHz\n",
      "\n",
      "-- 22,700 KHz\n",
      "\n",
      "-- 22,800 KHz\n",
      "\n",
      "-- 22,900 KHz\n",
      "\n",
      "1.2. Construction of the satellites in the U.S.\n",
      "\n",
      "1.2.1. The project at L-3 Communications in San Diego, California.\n",
      "\n",
      "2. The development of two satellites.\n",
      "\n",
      "The company is currently working to develop two satellites for the U.S. market. One of the satellites would be operational by the end of 2007.\n",
      "\n",
      "AUTOSAR develops, constructs, and operates commercial satellites and satellite-based systems designed for Internet and commercial telecommunications networks. Its satellites are used to provide capacity for broadband satellite services for the Americas and satellite services for other international markets, including Europe, Japan, and China.\n",
      "\n",
      "AUTOSAR is currently developing services for the Internet and telecommunications, including fixed and mobile satellite services.\n",
      "\n",
      "AUTOSAR's development and constructionCustomer projects\n",
      "\n",
      "The company's customer projects are described in the following table:\n",
      "\n",
      "2.1. Customer Projects\n",
      "\n",
      "2.1.1. The project at Boeing in Seattle, Washington.\n",
      "\n",
      "1. The company is pursuing other customers.\n",
      "\n",
      "2.1.1\n"
     ]
    }
   ],
   "source": [
    "print(res[0]['generated_text'])"
   ]
  },
  {
   "cell_type": "code",
   "execution_count": null,
   "id": "3a112869",
   "metadata": {},
   "outputs": [],
   "source": [
    "with open('gpttext.txt', 'w') as f:\n",
    "    f.writelines(res[0]['generated_text'])"
   ]
  }
 ],
 "metadata": {
  "kernelspec": {
   "display_name": "Python 3 (ipykernel)",
   "language": "python",
   "name": "python3"
  },
  "language_info": {
   "codemirror_mode": {
    "name": "ipython",
    "version": 3
   },
   "file_extension": ".py",
   "mimetype": "text/x-python",
   "name": "python",
   "nbconvert_exporter": "python",
   "pygments_lexer": "ipython3",
   "version": "3.11.4"
  }
 },
 "nbformat": 4,
 "nbformat_minor": 5
}
